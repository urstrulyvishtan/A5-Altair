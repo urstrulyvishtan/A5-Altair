{
 "cells": [
  {
   "cell_type": "markdown",
   "id": "55f4cd7b-7622-49eb-8aa7-e2cc087a427c",
   "metadata": {},
   "source": [
    "# Boston Weather"
   ]
  },
  {
   "cell_type": "markdown",
   "id": "6116e425-02f8-4557-a250-e9ab78f8b056",
   "metadata": {},
   "source": [
    "# Setup\n",
    "First, import what we need."
   ]
  },
  {
   "cell_type": "code",
   "execution_count": 1,
   "id": "caed359b-7077-47ab-837b-6594ca383b0e",
   "metadata": {},
   "outputs": [],
   "source": [
    "import math\n",
    "import altair as alt\n",
    "from altair import datum\n",
    "import pandas as pd\n",
    "import numpy as np\n",
    "from ipywidgets import interact, interactive, fixed, interact_manual\n",
    "import ipywidgets as widgets\n",
    "from vega_datasets import data"
   ]
  },
  {
   "cell_type": "markdown",
   "id": "0e91884e-6a28-4fb3-9b0c-5b07728d9427",
   "metadata": {},
   "source": [
    "Then, check versions of installed packages."
   ]
  },
  {
   "cell_type": "code",
   "execution_count": 2,
   "id": "a0f24464-58e6-41b3-8d0d-4d63fb6b34ff",
   "metadata": {},
   "outputs": [
    {
     "data": {
      "text/plain": [
       "'ipywidgets 8.1.1, altair 5.1.2, pandas 2.0.3, numpy 1.26.0'"
      ]
     },
     "execution_count": 2,
     "metadata": {},
     "output_type": "execute_result"
    }
   ],
   "source": [
    "'ipywidgets ' + widgets.__version__ + ', altair ' + alt.__version__ + ', pandas ' + pd.__version__ + ', numpy ' + np.__version__"
   ]
  },
  {
   "cell_type": "markdown",
   "id": "53fb2c30-2183-4950-adad-fff8d65a116e",
   "metadata": {},
   "source": [
    "Allow Altair to use more than 5000 rows"
   ]
  },
  {
   "cell_type": "code",
   "execution_count": 3,
   "id": "9409179c-95fe-4784-bcd6-5ba95a05d193",
   "metadata": {},
   "outputs": [
    {
     "data": {
      "text/plain": [
       "DataTransformerRegistry.enable('vegafusion')"
      ]
     },
     "execution_count": 3,
     "metadata": {},
     "output_type": "execute_result"
    }
   ],
   "source": [
    "alt.data_transformers.enable(\"vegafusion\")"
   ]
  },
  {
   "cell_type": "markdown",
   "id": "6a0d5888-a057-414a-a2c6-d14abc7970b7",
   "metadata": {},
   "source": [
    "## Weather"
   ]
  },
  {
   "cell_type": "code",
   "execution_count": 4,
   "id": "b97ab5f6-3247-4394-8598-99a2255459c2",
   "metadata": {},
   "outputs": [
    {
     "data": {
      "text/html": [
       "<div>\n",
       "<style scoped>\n",
       "    .dataframe tbody tr th:only-of-type {\n",
       "        vertical-align: middle;\n",
       "    }\n",
       "\n",
       "    .dataframe tbody tr th {\n",
       "        vertical-align: top;\n",
       "    }\n",
       "\n",
       "    .dataframe thead th {\n",
       "        text-align: right;\n",
       "    }\n",
       "</style>\n",
       "<table border=\"1\" class=\"dataframe\">\n",
       "  <thead>\n",
       "    <tr style=\"text-align: right;\">\n",
       "      <th></th>\n",
       "      <th>year</th>\n",
       "      <th>month</th>\n",
       "      <th>maxTemp</th>\n",
       "      <th>minTemp</th>\n",
       "      <th>meanTemp</th>\n",
       "      <th>precipitation</th>\n",
       "      <th>CDDBase65</th>\n",
       "    </tr>\n",
       "  </thead>\n",
       "  <tbody>\n",
       "    <tr>\n",
       "      <th>0</th>\n",
       "      <td>1872</td>\n",
       "      <td>Jan</td>\n",
       "      <td>NaN</td>\n",
       "      <td>NaN</td>\n",
       "      <td>NaN</td>\n",
       "      <td>2.0</td>\n",
       "      <td>NaN</td>\n",
       "    </tr>\n",
       "    <tr>\n",
       "      <th>1</th>\n",
       "      <td>1872</td>\n",
       "      <td>Feb</td>\n",
       "      <td>NaN</td>\n",
       "      <td>NaN</td>\n",
       "      <td>NaN</td>\n",
       "      <td>2.0</td>\n",
       "      <td>NaN</td>\n",
       "    </tr>\n",
       "    <tr>\n",
       "      <th>2</th>\n",
       "      <td>1872</td>\n",
       "      <td>Mar</td>\n",
       "      <td>48.0</td>\n",
       "      <td>-8.0</td>\n",
       "      <td>18.0</td>\n",
       "      <td>4.0</td>\n",
       "      <td>0.0</td>\n",
       "    </tr>\n",
       "    <tr>\n",
       "      <th>3</th>\n",
       "      <td>1872</td>\n",
       "      <td>Apr</td>\n",
       "      <td>85.0</td>\n",
       "      <td>28.0</td>\n",
       "      <td>38.0</td>\n",
       "      <td>1.0</td>\n",
       "      <td>1.0</td>\n",
       "    </tr>\n",
       "    <tr>\n",
       "      <th>4</th>\n",
       "      <td>1872</td>\n",
       "      <td>May</td>\n",
       "      <td>85.0</td>\n",
       "      <td>40.0</td>\n",
       "      <td>51.0</td>\n",
       "      <td>3.0</td>\n",
       "      <td>16.0</td>\n",
       "    </tr>\n",
       "    <tr>\n",
       "      <th>...</th>\n",
       "      <td>...</td>\n",
       "      <td>...</td>\n",
       "      <td>...</td>\n",
       "      <td>...</td>\n",
       "      <td>...</td>\n",
       "      <td>...</td>\n",
       "      <td>...</td>\n",
       "    </tr>\n",
       "    <tr>\n",
       "      <th>1816</th>\n",
       "      <td>2023</td>\n",
       "      <td>May</td>\n",
       "      <td>86.0</td>\n",
       "      <td>42.0</td>\n",
       "      <td>51.0</td>\n",
       "      <td>2.0</td>\n",
       "      <td>39.0</td>\n",
       "    </tr>\n",
       "    <tr>\n",
       "      <th>1817</th>\n",
       "      <td>2023</td>\n",
       "      <td>Jun</td>\n",
       "      <td>84.0</td>\n",
       "      <td>47.0</td>\n",
       "      <td>59.0</td>\n",
       "      <td>3.0</td>\n",
       "      <td>106.0</td>\n",
       "    </tr>\n",
       "    <tr>\n",
       "      <th>1818</th>\n",
       "      <td>2023</td>\n",
       "      <td>Jul</td>\n",
       "      <td>91.0</td>\n",
       "      <td>61.0</td>\n",
       "      <td>68.0</td>\n",
       "      <td>10.0</td>\n",
       "      <td>332.0</td>\n",
       "    </tr>\n",
       "    <tr>\n",
       "      <th>1819</th>\n",
       "      <td>2023</td>\n",
       "      <td>Aug</td>\n",
       "      <td>88.0</td>\n",
       "      <td>59.0</td>\n",
       "      <td>65.0</td>\n",
       "      <td>6.0</td>\n",
       "      <td>216.0</td>\n",
       "    </tr>\n",
       "    <tr>\n",
       "      <th>1820</th>\n",
       "      <td>2023</td>\n",
       "      <td>Sep</td>\n",
       "      <td>93.0</td>\n",
       "      <td>49.0</td>\n",
       "      <td>62.0</td>\n",
       "      <td>4.0</td>\n",
       "      <td>136.0</td>\n",
       "    </tr>\n",
       "  </tbody>\n",
       "</table>\n",
       "<p>1821 rows × 7 columns</p>\n",
       "</div>"
      ],
      "text/plain": [
       "      year month  maxTemp  minTemp  meanTemp  precipitation  CDDBase65\n",
       "0     1872   Jan      NaN      NaN       NaN            2.0        NaN\n",
       "1     1872   Feb      NaN      NaN       NaN            2.0        NaN\n",
       "2     1872   Mar     48.0     -8.0      18.0            4.0        0.0\n",
       "3     1872   Apr     85.0     28.0      38.0            1.0        1.0\n",
       "4     1872   May     85.0     40.0      51.0            3.0       16.0\n",
       "...    ...   ...      ...      ...       ...            ...        ...\n",
       "1816  2023   May     86.0     42.0      51.0            2.0       39.0\n",
       "1817  2023   Jun     84.0     47.0      59.0            3.0      106.0\n",
       "1818  2023   Jul     91.0     61.0      68.0           10.0      332.0\n",
       "1819  2023   Aug     88.0     59.0      65.0            6.0      216.0\n",
       "1820  2023   Sep     93.0     49.0      62.0            4.0      136.0\n",
       "\n",
       "[1821 rows x 7 columns]"
      ]
     },
     "execution_count": 4,
     "metadata": {},
     "output_type": "execute_result"
    }
   ],
   "source": [
    "bostonWeatherDF = pd.read_csv('boston-weather-mid.csv')\n",
    "bostonWeatherDF"
   ]
  },
  {
   "cell_type": "markdown",
   "id": "77f53eaf-8abf-4b1a-9406-297bd71dd55b",
   "metadata": {},
   "source": [
    "Data from [Weather.gov NOWData](https://www.weather.gov/wrh/Climate?wfo=box). Extracted monthly summary data `por`–`2023`, replaced \"T\" and \"M\" with blank for the missing data, loaded in PowerQuery to unpivot months then to pivot measure."
   ]
  },
  {
   "cell_type": "code",
   "execution_count": 5,
   "id": "c40a8d0e-518e-473b-aff5-665670b45053",
   "metadata": {},
   "outputs": [],
   "source": [
    "monthOrder = ['Jan', 'Feb', 'Mar', 'Apr', 'May', 'Jun', 'Jul', 'Aug', 'Sep', 'Oct', 'Nov', 'Dec']\n",
    "yearsInData=[bostonWeatherDF['year'].min(), bostonWeatherDF['year'].max()]\n",
    "tempsInData=[bostonWeatherDF['meanTemp'].min(), bostonWeatherDF['meanTemp'].max()]"
   ]
  },
  {
   "cell_type": "code",
   "execution_count": 6,
   "id": "36eb74d0-3002-4c31-8909-f4cc5d475337",
   "metadata": {},
   "outputs": [
    {
     "data": {
      "application/vnd.jupyter.widget-view+json": {
       "model_id": "242cdad212d243aaaf88f74f1bdb7deb",
       "version_major": 2,
       "version_minor": 0
      },
      "text/plain": [
       "interactive(children=(IntRangeSlider(value=(1872, 2023), description='Years:', max=2023, min=1872), Output()),…"
      ]
     },
     "metadata": {},
     "output_type": "display_data"
    }
   ],
   "source": [
    "@interact(years=widgets.IntRangeSlider(\n",
    "    value=yearsInData,\n",
    "    min=yearsInData[0],\n",
    "    max=yearsInData[1],\n",
    "    step=1,\n",
    "    description='Years:'\n",
    "))\n",
    "def tempMonthChangeOverTimeChart(years):    \n",
    "    return alt.Chart(\n",
    "        bostonWeatherDF, \n",
    "        title=alt.Title(\n",
    "            'How the Boston temperatures for each month have changed over time',\n",
    "            subtitle='A comparison of ' + str(years[0]) + '–' + str(years[1])\n",
    "        )\n",
    "    ).transform_filter(\n",
    "        ((datum.year >= years[0]) & (datum.year <= years[1]))\n",
    "    ).encode(\n",
    "        color=alt.Color('year', scale=alt.Scale(scheme='lightgreyred', domain=yearsInData), sort='ascending')\n",
    "    ).mark_line(point=True).encode(\n",
    "        x=alt.X('month:O').sort(monthOrder),\n",
    "        y=alt.Y('meanTemp:Q',  title='mean monthly temp in ⁰F', scale=alt.Scale(domain=tempsInData)),\n",
    "        tooltip=['year', 'meanTemp'],\n",
    "        opacity=alt.value(.3)\n",
    "    ).properties(\n",
    "        width=600,\n",
    "        height=600\n",
    "    )"
   ]
  },
  {
   "cell_type": "code",
   "execution_count": 7,
   "id": "bec1ff2a-489e-46f6-a78f-32b2a56415a7",
   "metadata": {},
   "outputs": [
    {
     "data": {
      "application/vnd.jupyter.widget-view+json": {
       "model_id": "0fb9c4d0eee449fc9b99c25cad6afca6",
       "version_major": 2,
       "version_minor": 0
      },
      "text/plain": [
       "interactive(children=(Dropdown(description='Month:', index=7, options=('Jan', 'Feb', 'Mar', 'Apr', 'May', 'Jun…"
      ]
     },
     "metadata": {},
     "output_type": "display_data"
    }
   ],
   "source": [
    "@interact(month=widgets.Dropdown(\n",
    "    options=monthOrder,\n",
    "    value='Aug',\n",
    "    description='Month:',\n",
    "))\n",
    "def tempYearChangeOverTimeChart(month):\n",
    "\n",
    "    brush = alt.selection_interval(encodings=['x'])\n",
    "    \n",
    "    colorChart = alt.Chart(\n",
    "        title=alt.Title(\n",
    "            'How the Boston ' + month + ' temperature has changed over time',\n",
    "            subtitle='A comparison of ' + str(yearsInData[0]) + '–' + str(yearsInData[1]) + ' with interactive selection mean across years'\n",
    "        )\n",
    "    ).encode(\n",
    "        color=alt.Color('year', scale=alt.Scale(scheme='lightgreyred')),\n",
    "    ).add_params(\n",
    "        brush\n",
    "    )\n",
    "\n",
    "    points = colorChart.mark_point().encode(\n",
    "        x=alt.X('year:Q', scale=alt.Scale(zero=False)),\n",
    "        y=alt.Y('meanTemp:Q', title='mean monthly temp in ⁰F', scale=alt.Scale(zero=False)),\n",
    "        tooltip=['year', 'maxTemp', 'meanTemp', 'minTemp', 'CDDBase65']        \n",
    "    )\n",
    "\n",
    "    meanLine = alt.Chart().mark_rule(color='firebrick').encode(\n",
    "        y=alt.Y('mean(meanTemp):Q', scale=alt.Scale(zero=False)),\n",
    "        size=alt.SizeValue(3)\n",
    "    ).transform_filter(\n",
    "        brush\n",
    "    )\n",
    "\n",
    "    tempScatter = alt.layer(points, meanLine, data=bostonWeatherDF).transform_filter(\n",
    "        (datum.month == month)\n",
    "    )\n",
    "    \n",
    "    return tempScatter.properties(\n",
    "        width=600,\n",
    "        height=300\n",
    "    )"
   ]
  },
  {
   "cell_type": "code",
   "execution_count": 8,
   "id": "4626333a-d834-46ec-b8f7-cb07b5d6b3e1",
   "metadata": {},
   "outputs": [
    {
     "data": {
      "application/vnd.jupyter.widget-view+json": {
       "model_id": "c9211b3d753049d9a2a542225e7c5419",
       "version_major": 2,
       "version_minor": 0
      },
      "text/plain": [
       "interactive(children=(Dropdown(description='Month:', index=7, options=('Jan', 'Feb', 'Mar', 'Apr', 'May', 'Jun…"
      ]
     },
     "metadata": {},
     "output_type": "display_data"
    }
   ],
   "source": [
    "@interact(month=widgets.Dropdown(\n",
    "    options=monthOrder,\n",
    "    value='Aug',\n",
    "    description='Month:',\n",
    "))\n",
    "def tempScatter(month):\n",
    "\n",
    "    \n",
    "    colorChart = alt.Chart(\n",
    "        bostonWeatherDF, \n",
    "        title=alt.Title(\n",
    "            'Cooling Degree Days Base 65 score for ' + month + ' over the years',\n",
    "            subtitle=\"A comparison of 1872–2023\"\n",
    "        )\n",
    "    ).transform_filter(\n",
    "        (datum.month == month)\n",
    "    ).encode(\n",
    "        color=alt.Color('year', scale=alt.Scale(scheme='lightgreyred'))\n",
    "    )\n",
    "    \n",
    "    lines = colorChart.mark_point().encode(\n",
    "        x=alt.X('year:Q', scale=alt.Scale(zero=False)),\n",
    "        y=alt.Y('CDDBase65:Q', scale=alt.Scale(zero=False)),\n",
    "        tooltip=['year', 'maxTemp', 'meanTemp', 'minTemp', 'CDDBase65']        \n",
    "    )\n",
    "\n",
    "    tempScatter=lines.properties(\n",
    "        width=600,\n",
    "        height=300\n",
    "    )\n",
    "\n",
    "    return tempScatter"
   ]
  }
 ],
 "metadata": {
  "kernelspec": {
   "display_name": "Python 3 (ipykernel)",
   "language": "python",
   "name": "python3"
  },
  "language_info": {
   "codemirror_mode": {
    "name": "ipython",
    "version": 3
   },
   "file_extension": ".py",
   "mimetype": "text/x-python",
   "name": "python",
   "nbconvert_exporter": "python",
   "pygments_lexer": "ipython3",
   "version": "3.11.5"
  }
 },
 "nbformat": 4,
 "nbformat_minor": 5
}
